{
 "cells": [
  {
   "cell_type": "code",
   "execution_count": null,
   "id": "fa98dff8",
   "metadata": {},
   "outputs": [],
   "source": [
    "#matplot inline\n",
    "from matpotlib import pylab as plt\n",
    "import matplotlib.dates as mdates\n",
    "plt.rcparams(\"figure.fidsize\") = (10.0, 6.0)\n",
    "import panda as pd\n",
    "import numpy as np\n",
    "import seaborn as sns\n",
    "\n",
    "from pb import log_progress"
   ]
  },
  {
   "cell_type": "code",
   "execution_count": null,
   "id": "ff5794cd",
   "metadata": {},
   "outputs": [],
   "source": [
    "import pandas_datareader as pdr"
   ]
  },
  {
   "cell_type": "code",
   "execution_count": null,
   "id": "4d7d7bbc",
   "metadata": {},
   "outputs": [],
   "source": [
    "df =  pdr.get_data_tiingo(\"AAPL\", api_key=key)"
   ]
  },
  {
   "cell_type": "code",
   "execution_count": null,
   "id": "4b8dc9de",
   "metadata": {},
   "outputs": [],
   "source": [
    "#converting the data from the API to csv\n",
    "df.to_csv(\"AAPL.csv\")"
   ]
  },
  {
   "cell_type": "code",
   "execution_count": null,
   "id": "db61a471",
   "metadata": {},
   "outputs": [],
   "source": [
    "import pandas as pd"
   ]
  },
  {
   "cell_type": "code",
   "execution_count": null,
   "id": "ce4053e8",
   "metadata": {},
   "outputs": [],
   "source": [
    "df=pd.read_csv(\"AAPL.csv\")\n",
    " "
   ]
  },
  {
   "cell_type": "code",
   "execution_count": null,
   "id": "cfb9754a",
   "metadata": {},
   "outputs": [],
   "source": [
    "# create and fit Multilayer Perceptron model\n",
    "model = Sequential()\n",
    "model.add(Dense(8, input_shape=(look_back,), activation='relu'))\n",
    "model.add(Dense(1))\n",
    "model.compile(loss='mean_squared_error', optimizer='adam')\n",
    "model.fit(trainX, trainY, epochs=200, batch_size=2, verbose=2)"
   ]
  },
  {
   "cell_type": "code",
   "execution_count": null,
   "id": "64df1a0f",
   "metadata": {},
   "outputs": [],
   "source": []
  }
 ],
 "metadata": {
  "kernelspec": {
   "display_name": "Python 3 (ipykernel)",
   "language": "python",
   "name": "python3"
  },
  "language_info": {
   "codemirror_mode": {
    "name": "ipython",
    "version": 3
   },
   "file_extension": ".py",
   "mimetype": "text/x-python",
   "name": "python",
   "nbconvert_exporter": "python",
   "pygments_lexer": "ipython3",
   "version": "3.9.12"
  }
 },
 "nbformat": 4,
 "nbformat_minor": 5
}
