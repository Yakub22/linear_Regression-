{
 "cells": [
  {
   "cell_type": "code",
   "execution_count": null,
   "id": "0e772ef4",
   "metadata": {},
   "outputs": [],
   "source": [
    "#matplot inline\n",
    "from matpotlib import pylab as plt\n",
    "import matplotlib.dates as mdates\n",
    "plt.rcparams(\"figure.fidsize\") = (10.0, 6.0)\n",
    "import panda as pd\n",
    "import numpy as np\n",
    "import seaborn as sns\n",
    "\n",
    "from pb import log_progress"
   ]
  },
  {
   "cell_type": "code",
   "execution_count": null,
   "id": "e70f6226",
   "metadata": {},
   "outputs": [],
   "source": [
    "import pandas_datareader as pdr"
   ]
  },
  {
   "cell_type": "code",
   "execution_count": null,
   "id": "2ec0edf1",
   "metadata": {},
   "outputs": [],
   "source": [
    "df =  pdr.get_data_tiingo(\"AAPL\", api_key=key)"
   ]
  },
  {
   "cell_type": "code",
   "execution_count": null,
   "id": "4b462445",
   "metadata": {},
   "outputs": [],
   "source": [
    "#converting the data from the API to csv\n",
    "df.to_csv(\"AAPL.csv\")"
   ]
  },
  {
   "cell_type": "code",
   "execution_count": null,
   "id": "2b651f18",
   "metadata": {},
   "outputs": [],
   "source": [
    "import pandas as pd"
   ]
  },
  {
   "cell_type": "code",
   "execution_count": null,
   "id": "f2a74833",
   "metadata": {},
   "outputs": [],
   "source": [
    "df=pd.read_csv(\"AAPL.csv\")\n",
    " "
   ]
  },
  {
   "cell_type": "code",
   "execution_count": null,
   "id": "ad2a24d9",
   "metadata": {},
   "outputs": [],
   "source": [
    "# create and fit Multilayer Perceptron model\n",
    "model = Sequential()\n",
    "model.add(Dense(8, input_shape=(look_back,), activation='relu'))\n",
    "model.add(Dense(1))\n",
    "model.compile(loss='mean_squared_error', optimizer='adam')\n",
    "model.fit(trainX, trainY, epochs=200, batch_size=2, verbose=2)"
   ]
  },
  {
   "cell_type": "code",
   "execution_count": null,
   "id": "40949347",
   "metadata": {},
   "outputs": [],
   "source": []
  }
 ],
 "metadata": {
  "kernelspec": {
   "display_name": "Python 3",
   "language": "python",
   "name": "python3"
  },
  "language_info": {
   "codemirror_mode": {
    "name": "ipython",
    "version": 3
   },
   "file_extension": ".py",
   "mimetype": "text/x-python",
   "name": "python",
   "nbconvert_exporter": "python",
   "pygments_lexer": "ipython3",
   "version": "3.6.13"
  }
 },
 "nbformat": 4,
 "nbformat_minor": 5
}
